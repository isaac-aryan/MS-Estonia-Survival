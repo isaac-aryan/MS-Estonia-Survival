{
 "cells": [
  {
   "cell_type": "code",
   "execution_count": 1,
   "id": "global-lottery",
   "metadata": {
    "_cell_guid": "b1076dfc-b9ad-4769-8c92-a6c4dae69d19",
    "_uuid": "8f2839f25d086af736a60e9eeb907d3b93b6e0e5",
    "execution": {
     "iopub.execute_input": "2021-05-22T07:43:05.202466Z",
     "iopub.status.busy": "2021-05-22T07:43:05.201828Z",
     "iopub.status.idle": "2021-05-22T07:43:05.214802Z",
     "shell.execute_reply": "2021-05-22T07:43:05.213839Z",
     "shell.execute_reply.started": "2021-05-22T06:34:49.42491Z"
    },
    "papermill": {
     "duration": 0.05197,
     "end_time": "2021-05-22T07:43:05.215017",
     "exception": false,
     "start_time": "2021-05-22T07:43:05.163047",
     "status": "completed"
    },
    "tags": []
   },
   "outputs": [
    {
     "name": "stdout",
     "output_type": "stream",
     "text": [
      "/kaggle/input/passenger-list-for-the-estonia-ferry-disaster/estonia-passenger-list.csv\n"
     ]
    }
   ],
   "source": [
    "# This Python 3 environment comes with many helpful analytics libraries installed\n",
    "# It is defined by the kaggle/python Docker image: https://github.com/kaggle/docker-python\n",
    "# For example, here's several helpful packages to load\n",
    "\n",
    "import numpy as np # linear algebra\n",
    "import pandas as pd # data processing, CSV file I/O (e.g. pd.read_csv)\n",
    "\n",
    "# Input data files are available in the read-only \"../input/\" directory\n",
    "# For example, running this (by clicking run or pressing Shift+Enter) will list all files under the input directory\n",
    "\n",
    "import os\n",
    "for dirname, _, filenames in os.walk('/kaggle/input'):\n",
    "    for filename in filenames:\n",
    "        print(os.path.join(dirname, filename))\n",
    "\n",
    "# You can write up to 20GB to the current directory (/kaggle/working/) that gets preserved as output when you create a version using \"Save & Run All\" \n",
    "# You can also write temporary files to /kaggle/temp/, but they won't be saved outside of the current session"
   ]
  },
  {
   "cell_type": "markdown",
   "id": "respective-opera",
   "metadata": {
    "papermill": {
     "duration": 0.02684,
     "end_time": "2021-05-22T07:43:05.270555",
     "exception": false,
     "start_time": "2021-05-22T07:43:05.243715",
     "status": "completed"
    },
    "tags": []
   },
   "source": [
    "This is one of my first ML programs so feedback would be appreciated, I'm always looking to improve :)"
   ]
  },
  {
   "cell_type": "code",
   "execution_count": 2,
   "id": "electrical-exercise",
   "metadata": {
    "execution": {
     "iopub.execute_input": "2021-05-22T07:43:05.328378Z",
     "iopub.status.busy": "2021-05-22T07:43:05.327686Z",
     "iopub.status.idle": "2021-05-22T07:43:06.277115Z",
     "shell.execute_reply": "2021-05-22T07:43:06.276310Z",
     "shell.execute_reply.started": "2021-05-22T06:58:23.430058Z"
    },
    "papermill": {
     "duration": 0.981004,
     "end_time": "2021-05-22T07:43:06.277297",
     "exception": false,
     "start_time": "2021-05-22T07:43:05.296293",
     "status": "completed"
    },
    "tags": []
   },
   "outputs": [],
   "source": [
    "#IMPORTED STUFF\n",
    "import numpy as np\n",
    "import pandas as pd\n",
    "import matplotlib.pyplot as plt\n",
    "import seaborn as sns\n",
    "from sklearn.model_selection import train_test_split\n",
    "from sklearn.preprocessing import LabelEncoder\n",
    "%matplotlib inline"
   ]
  },
  {
   "cell_type": "code",
   "execution_count": 3,
   "id": "emotional-information",
   "metadata": {
    "execution": {
     "iopub.execute_input": "2021-05-22T07:43:06.336044Z",
     "iopub.status.busy": "2021-05-22T07:43:06.335322Z",
     "iopub.status.idle": "2021-05-22T07:43:06.544039Z",
     "shell.execute_reply": "2021-05-22T07:43:06.543492Z",
     "shell.execute_reply.started": "2021-05-22T07:37:47.553134Z"
    },
    "papermill": {
     "duration": 0.239798,
     "end_time": "2021-05-22T07:43:06.544187",
     "exception": false,
     "start_time": "2021-05-22T07:43:06.304389",
     "status": "completed"
    },
    "tags": []
   },
   "outputs": [],
   "source": [
    "#IMPORTED ML ALGORITHMS\n",
    "from sklearn.ensemble import RandomForestClassifier\n",
    "from sklearn.linear_model import LogisticRegression\n",
    "from sklearn.neighbors import KNeighborsClassifier\n",
    "from sklearn.tree import DecisionTreeClassifier\n",
    "from sklearn.ensemble import GradientBoostingClassifier\n",
    "\n",
    "#IMPORTING MAE\n",
    "from sklearn.metrics import mean_absolute_error"
   ]
  },
  {
   "cell_type": "code",
   "execution_count": 4,
   "id": "younger-berlin",
   "metadata": {
    "execution": {
     "iopub.execute_input": "2021-05-22T07:43:06.601082Z",
     "iopub.status.busy": "2021-05-22T07:43:06.600470Z",
     "iopub.status.idle": "2021-05-22T07:43:06.618089Z",
     "shell.execute_reply": "2021-05-22T07:43:06.617587Z",
     "shell.execute_reply.started": "2021-05-22T06:37:43.954052Z"
    },
    "papermill": {
     "duration": 0.046696,
     "end_time": "2021-05-22T07:43:06.618222",
     "exception": false,
     "start_time": "2021-05-22T07:43:06.571526",
     "status": "completed"
    },
    "tags": []
   },
   "outputs": [],
   "source": [
    "#Reading the Data\n",
    "df = pd.read_csv('../input/passenger-list-for-the-estonia-ferry-disaster/estonia-passenger-list.csv')"
   ]
  },
  {
   "cell_type": "code",
   "execution_count": 5,
   "id": "composite-saver",
   "metadata": {
    "execution": {
     "iopub.execute_input": "2021-05-22T07:43:06.676556Z",
     "iopub.status.busy": "2021-05-22T07:43:06.675885Z",
     "iopub.status.idle": "2021-05-22T07:43:06.701521Z",
     "shell.execute_reply": "2021-05-22T07:43:06.700910Z",
     "shell.execute_reply.started": "2021-05-22T06:38:39.589963Z"
    },
    "papermill": {
     "duration": 0.055438,
     "end_time": "2021-05-22T07:43:06.701653",
     "exception": false,
     "start_time": "2021-05-22T07:43:06.646215",
     "status": "completed"
    },
    "tags": []
   },
   "outputs": [
    {
     "data": {
      "text/html": [
       "<div>\n",
       "<style scoped>\n",
       "    .dataframe tbody tr th:only-of-type {\n",
       "        vertical-align: middle;\n",
       "    }\n",
       "\n",
       "    .dataframe tbody tr th {\n",
       "        vertical-align: top;\n",
       "    }\n",
       "\n",
       "    .dataframe thead th {\n",
       "        text-align: right;\n",
       "    }\n",
       "</style>\n",
       "<table border=\"1\" class=\"dataframe\">\n",
       "  <thead>\n",
       "    <tr style=\"text-align: right;\">\n",
       "      <th></th>\n",
       "      <th>PassengerId</th>\n",
       "      <th>Country</th>\n",
       "      <th>Firstname</th>\n",
       "      <th>Lastname</th>\n",
       "      <th>Sex</th>\n",
       "      <th>Age</th>\n",
       "      <th>Category</th>\n",
       "      <th>Survived</th>\n",
       "    </tr>\n",
       "  </thead>\n",
       "  <tbody>\n",
       "    <tr>\n",
       "      <th>0</th>\n",
       "      <td>1</td>\n",
       "      <td>Sweden</td>\n",
       "      <td>ARVID KALLE</td>\n",
       "      <td>AADLI</td>\n",
       "      <td>M</td>\n",
       "      <td>62</td>\n",
       "      <td>P</td>\n",
       "      <td>0</td>\n",
       "    </tr>\n",
       "    <tr>\n",
       "      <th>1</th>\n",
       "      <td>2</td>\n",
       "      <td>Estonia</td>\n",
       "      <td>LEA</td>\n",
       "      <td>AALISTE</td>\n",
       "      <td>F</td>\n",
       "      <td>22</td>\n",
       "      <td>C</td>\n",
       "      <td>0</td>\n",
       "    </tr>\n",
       "    <tr>\n",
       "      <th>2</th>\n",
       "      <td>3</td>\n",
       "      <td>Estonia</td>\n",
       "      <td>AIRI</td>\n",
       "      <td>AAVASTE</td>\n",
       "      <td>F</td>\n",
       "      <td>21</td>\n",
       "      <td>C</td>\n",
       "      <td>0</td>\n",
       "    </tr>\n",
       "    <tr>\n",
       "      <th>3</th>\n",
       "      <td>4</td>\n",
       "      <td>Sweden</td>\n",
       "      <td>JURI</td>\n",
       "      <td>AAVIK</td>\n",
       "      <td>M</td>\n",
       "      <td>53</td>\n",
       "      <td>C</td>\n",
       "      <td>0</td>\n",
       "    </tr>\n",
       "    <tr>\n",
       "      <th>4</th>\n",
       "      <td>5</td>\n",
       "      <td>Sweden</td>\n",
       "      <td>BRITTA ELISABET</td>\n",
       "      <td>AHLSTROM</td>\n",
       "      <td>F</td>\n",
       "      <td>55</td>\n",
       "      <td>P</td>\n",
       "      <td>0</td>\n",
       "    </tr>\n",
       "  </tbody>\n",
       "</table>\n",
       "</div>"
      ],
      "text/plain": [
       "   PassengerId  Country        Firstname  Lastname Sex  Age Category  Survived\n",
       "0            1   Sweden      ARVID KALLE     AADLI   M   62        P         0\n",
       "1            2  Estonia              LEA   AALISTE   F   22        C         0\n",
       "2            3  Estonia             AIRI   AAVASTE   F   21        C         0\n",
       "3            4   Sweden             JURI     AAVIK   M   53        C         0\n",
       "4            5   Sweden  BRITTA ELISABET  AHLSTROM   F   55        P         0"
      ]
     },
     "execution_count": 5,
     "metadata": {},
     "output_type": "execute_result"
    }
   ],
   "source": [
    "#Basic Data Exploration\n",
    "\n",
    "#Checking first few rows of data\n",
    "df.head()"
   ]
  },
  {
   "cell_type": "code",
   "execution_count": 6,
   "id": "competitive-transport",
   "metadata": {
    "execution": {
     "iopub.execute_input": "2021-05-22T07:43:06.764972Z",
     "iopub.status.busy": "2021-05-22T07:43:06.764141Z",
     "iopub.status.idle": "2021-05-22T07:43:06.767141Z",
     "shell.execute_reply": "2021-05-22T07:43:06.767626Z",
     "shell.execute_reply.started": "2021-05-22T06:41:04.353406Z"
    },
    "papermill": {
     "duration": 0.037932,
     "end_time": "2021-05-22T07:43:06.767785",
     "exception": false,
     "start_time": "2021-05-22T07:43:06.729853",
     "status": "completed"
    },
    "tags": []
   },
   "outputs": [],
   "source": [
    "#We don't require the columns PassengerId, Firstname and Lastname so we drop those columns.\n",
    "df = df.drop(['PassengerId', 'Firstname', 'Lastname'], axis=1)"
   ]
  },
  {
   "cell_type": "code",
   "execution_count": 7,
   "id": "formed-breed",
   "metadata": {
    "execution": {
     "iopub.execute_input": "2021-05-22T07:43:06.826819Z",
     "iopub.status.busy": "2021-05-22T07:43:06.825804Z",
     "iopub.status.idle": "2021-05-22T07:43:06.831974Z",
     "shell.execute_reply": "2021-05-22T07:43:06.832490Z",
     "shell.execute_reply.started": "2021-05-22T06:51:27.662783Z"
    },
    "papermill": {
     "duration": 0.037121,
     "end_time": "2021-05-22T07:43:06.832642",
     "exception": false,
     "start_time": "2021-05-22T07:43:06.795521",
     "status": "completed"
    },
    "tags": []
   },
   "outputs": [
    {
     "data": {
      "text/plain": [
       "(989, 5)"
      ]
     },
     "execution_count": 7,
     "metadata": {},
     "output_type": "execute_result"
    }
   ],
   "source": [
    "df.shape"
   ]
  },
  {
   "cell_type": "code",
   "execution_count": 8,
   "id": "secure-advertising",
   "metadata": {
    "execution": {
     "iopub.execute_input": "2021-05-22T07:43:06.904656Z",
     "iopub.status.busy": "2021-05-22T07:43:06.904006Z",
     "iopub.status.idle": "2021-05-22T07:43:06.907493Z",
     "shell.execute_reply": "2021-05-22T07:43:06.907974Z",
     "shell.execute_reply.started": "2021-05-22T06:41:48.871879Z"
    },
    "papermill": {
     "duration": 0.048032,
     "end_time": "2021-05-22T07:43:06.908132",
     "exception": false,
     "start_time": "2021-05-22T07:43:06.860100",
     "status": "completed"
    },
    "tags": []
   },
   "outputs": [
    {
     "name": "stdout",
     "output_type": "stream",
     "text": [
      "<class 'pandas.core.frame.DataFrame'>\n",
      "RangeIndex: 989 entries, 0 to 988\n",
      "Data columns (total 5 columns):\n",
      " #   Column    Non-Null Count  Dtype \n",
      "---  ------    --------------  ----- \n",
      " 0   Country   989 non-null    object\n",
      " 1   Sex       989 non-null    object\n",
      " 2   Age       989 non-null    int64 \n",
      " 3   Category  989 non-null    object\n",
      " 4   Survived  989 non-null    int64 \n",
      "dtypes: int64(2), object(3)\n",
      "memory usage: 38.8+ KB\n"
     ]
    }
   ],
   "source": [
    "#Checking Data Types and Null Counts\n",
    "df.info()"
   ]
  },
  {
   "cell_type": "code",
   "execution_count": 9,
   "id": "supposed-district",
   "metadata": {
    "execution": {
     "iopub.execute_input": "2021-05-22T07:43:06.971524Z",
     "iopub.status.busy": "2021-05-22T07:43:06.970892Z",
     "iopub.status.idle": "2021-05-22T07:43:06.974781Z",
     "shell.execute_reply": "2021-05-22T07:43:06.974171Z",
     "shell.execute_reply.started": "2021-05-22T06:42:35.072941Z"
    },
    "papermill": {
     "duration": 0.038361,
     "end_time": "2021-05-22T07:43:06.974920",
     "exception": false,
     "start_time": "2021-05-22T07:43:06.936559",
     "status": "completed"
    },
    "tags": []
   },
   "outputs": [
    {
     "data": {
      "text/plain": [
       "Country     0\n",
       "Sex         0\n",
       "Age         0\n",
       "Category    0\n",
       "Survived    0\n",
       "dtype: int64"
      ]
     },
     "execution_count": 9,
     "metadata": {},
     "output_type": "execute_result"
    }
   ],
   "source": [
    "#Checking how many null values we have\n",
    "df.isnull().sum()"
   ]
  },
  {
   "cell_type": "markdown",
   "id": "cloudy-haven",
   "metadata": {
    "papermill": {
     "duration": 0.033467,
     "end_time": "2021-05-22T07:43:07.037724",
     "exception": false,
     "start_time": "2021-05-22T07:43:07.004257",
     "status": "completed"
    },
    "tags": []
   },
   "source": [
    "There are no null values in this dataset."
   ]
  },
  {
   "cell_type": "code",
   "execution_count": 10,
   "id": "advance-angola",
   "metadata": {
    "execution": {
     "iopub.execute_input": "2021-05-22T07:43:07.115001Z",
     "iopub.status.busy": "2021-05-22T07:43:07.113946Z",
     "iopub.status.idle": "2021-05-22T07:43:07.132616Z",
     "shell.execute_reply": "2021-05-22T07:43:07.131877Z",
     "shell.execute_reply.started": "2021-05-22T06:43:25.641446Z"
    },
    "papermill": {
     "duration": 0.060106,
     "end_time": "2021-05-22T07:43:07.132753",
     "exception": false,
     "start_time": "2021-05-22T07:43:07.072647",
     "status": "completed"
    },
    "tags": []
   },
   "outputs": [
    {
     "data": {
      "text/html": [
       "<div>\n",
       "<style scoped>\n",
       "    .dataframe tbody tr th:only-of-type {\n",
       "        vertical-align: middle;\n",
       "    }\n",
       "\n",
       "    .dataframe tbody tr th {\n",
       "        vertical-align: top;\n",
       "    }\n",
       "\n",
       "    .dataframe thead th {\n",
       "        text-align: right;\n",
       "    }\n",
       "</style>\n",
       "<table border=\"1\" class=\"dataframe\">\n",
       "  <thead>\n",
       "    <tr style=\"text-align: right;\">\n",
       "      <th></th>\n",
       "      <th>Age</th>\n",
       "      <th>Survived</th>\n",
       "    </tr>\n",
       "  </thead>\n",
       "  <tbody>\n",
       "    <tr>\n",
       "      <th>count</th>\n",
       "      <td>989.000000</td>\n",
       "      <td>989.000000</td>\n",
       "    </tr>\n",
       "    <tr>\n",
       "      <th>mean</th>\n",
       "      <td>44.575329</td>\n",
       "      <td>0.138524</td>\n",
       "    </tr>\n",
       "    <tr>\n",
       "      <th>std</th>\n",
       "      <td>17.235146</td>\n",
       "      <td>0.345624</td>\n",
       "    </tr>\n",
       "    <tr>\n",
       "      <th>min</th>\n",
       "      <td>0.000000</td>\n",
       "      <td>0.000000</td>\n",
       "    </tr>\n",
       "    <tr>\n",
       "      <th>25%</th>\n",
       "      <td>30.000000</td>\n",
       "      <td>0.000000</td>\n",
       "    </tr>\n",
       "    <tr>\n",
       "      <th>50%</th>\n",
       "      <td>44.000000</td>\n",
       "      <td>0.000000</td>\n",
       "    </tr>\n",
       "    <tr>\n",
       "      <th>75%</th>\n",
       "      <td>59.000000</td>\n",
       "      <td>0.000000</td>\n",
       "    </tr>\n",
       "    <tr>\n",
       "      <th>max</th>\n",
       "      <td>87.000000</td>\n",
       "      <td>1.000000</td>\n",
       "    </tr>\n",
       "  </tbody>\n",
       "</table>\n",
       "</div>"
      ],
      "text/plain": [
       "              Age    Survived\n",
       "count  989.000000  989.000000\n",
       "mean    44.575329    0.138524\n",
       "std     17.235146    0.345624\n",
       "min      0.000000    0.000000\n",
       "25%     30.000000    0.000000\n",
       "50%     44.000000    0.000000\n",
       "75%     59.000000    0.000000\n",
       "max     87.000000    1.000000"
      ]
     },
     "execution_count": 10,
     "metadata": {},
     "output_type": "execute_result"
    }
   ],
   "source": [
    "df.describe()"
   ]
  },
  {
   "cell_type": "code",
   "execution_count": 11,
   "id": "unauthorized-exhaust",
   "metadata": {
    "execution": {
     "iopub.execute_input": "2021-05-22T07:43:07.194602Z",
     "iopub.status.busy": "2021-05-22T07:43:07.193701Z",
     "iopub.status.idle": "2021-05-22T07:43:07.201892Z",
     "shell.execute_reply": "2021-05-22T07:43:07.201292Z",
     "shell.execute_reply.started": "2021-05-22T06:45:00.988204Z"
    },
    "papermill": {
     "duration": 0.04011,
     "end_time": "2021-05-22T07:43:07.202045",
     "exception": false,
     "start_time": "2021-05-22T07:43:07.161935",
     "status": "completed"
    },
    "tags": []
   },
   "outputs": [
    {
     "data": {
      "text/plain": [
       "Sweden           550\n",
       "Estonia          344\n",
       "Latvia            28\n",
       "Finland           16\n",
       "Russia            14\n",
       "Norway             9\n",
       "Germany            8\n",
       "Denmark            6\n",
       "Lithuania          4\n",
       "Great Britain      2\n",
       "Morocco            2\n",
       "Netherlands        2\n",
       "France             1\n",
       "Nigeria            1\n",
       "Canada             1\n",
       "Belarus            1\n",
       "Name: Country, dtype: int64"
      ]
     },
     "execution_count": 11,
     "metadata": {},
     "output_type": "execute_result"
    }
   ],
   "source": [
    "#Checking Value Counts\n",
    "\n",
    "#Country Value Counts\n",
    "df.Country.value_counts()"
   ]
  },
  {
   "cell_type": "code",
   "execution_count": 12,
   "id": "strong-japanese",
   "metadata": {
    "execution": {
     "iopub.execute_input": "2021-05-22T07:43:07.266879Z",
     "iopub.status.busy": "2021-05-22T07:43:07.266007Z",
     "iopub.status.idle": "2021-05-22T07:43:07.270309Z",
     "shell.execute_reply": "2021-05-22T07:43:07.270784Z",
     "shell.execute_reply.started": "2021-05-22T06:45:31.336505Z"
    },
    "papermill": {
     "duration": 0.039709,
     "end_time": "2021-05-22T07:43:07.270951",
     "exception": false,
     "start_time": "2021-05-22T07:43:07.231242",
     "status": "completed"
    },
    "tags": []
   },
   "outputs": [
    {
     "data": {
      "text/plain": [
       "M    503\n",
       "F    486\n",
       "Name: Sex, dtype: int64"
      ]
     },
     "execution_count": 12,
     "metadata": {},
     "output_type": "execute_result"
    }
   ],
   "source": [
    "#Sex Value Counts\n",
    "df.Sex.value_counts()"
   ]
  },
  {
   "cell_type": "code",
   "execution_count": 13,
   "id": "virtual-mason",
   "metadata": {
    "execution": {
     "iopub.execute_input": "2021-05-22T07:43:07.333890Z",
     "iopub.status.busy": "2021-05-22T07:43:07.332933Z",
     "iopub.status.idle": "2021-05-22T07:43:07.339912Z",
     "shell.execute_reply": "2021-05-22T07:43:07.340513Z",
     "shell.execute_reply.started": "2021-05-22T06:45:51.881897Z"
    },
    "papermill": {
     "duration": 0.040137,
     "end_time": "2021-05-22T07:43:07.340689",
     "exception": false,
     "start_time": "2021-05-22T07:43:07.300552",
     "status": "completed"
    },
    "tags": []
   },
   "outputs": [
    {
     "data": {
      "text/plain": [
       "P    796\n",
       "C    193\n",
       "Name: Category, dtype: int64"
      ]
     },
     "execution_count": 13,
     "metadata": {},
     "output_type": "execute_result"
    }
   ],
   "source": [
    "#Category Value Counts\n",
    "df.Category.value_counts()"
   ]
  },
  {
   "cell_type": "markdown",
   "id": "approved-melissa",
   "metadata": {
    "papermill": {
     "duration": 0.02991,
     "end_time": "2021-05-22T07:43:07.400506",
     "exception": false,
     "start_time": "2021-05-22T07:43:07.370596",
     "status": "completed"
    },
    "tags": []
   },
   "source": [
    "# Basic Data Visualisation "
   ]
  },
  {
   "cell_type": "code",
   "execution_count": 14,
   "id": "spoken-jacksonville",
   "metadata": {
    "execution": {
     "iopub.execute_input": "2021-05-22T07:43:07.465644Z",
     "iopub.status.busy": "2021-05-22T07:43:07.464692Z",
     "iopub.status.idle": "2021-05-22T07:43:07.638728Z",
     "shell.execute_reply": "2021-05-22T07:43:07.638232Z",
     "shell.execute_reply.started": "2021-05-22T06:50:51.621156Z"
    },
    "papermill": {
     "duration": 0.207922,
     "end_time": "2021-05-22T07:43:07.638867",
     "exception": false,
     "start_time": "2021-05-22T07:43:07.430945",
     "status": "completed"
    },
    "tags": []
   },
   "outputs": [
    {
     "data": {
      "image/png": "[encoded data removed]",
      "text/plain": [
       "<Figure size 432x288 with 1 Axes>"
      ]
     },
     "metadata": {
      "needs_background": "light"
     },
     "output_type": "display_data"
    }
   ],
   "source": [
    "#Plotting Histogram For Age\n",
    "plt.hist(df.Age)\n",
    "plt.title(\"Age\")\n",
    "plt.show()"
   ]
  },
  {
   "cell_type": "code",
   "execution_count": 15,
   "id": "suitable-dream",
   "metadata": {
    "execution": {
     "iopub.execute_input": "2021-05-22T07:43:07.713412Z",
     "iopub.status.busy": "2021-05-22T07:43:07.711312Z",
     "iopub.status.idle": "2021-05-22T07:43:08.047282Z",
     "shell.execute_reply": "2021-05-22T07:43:08.046732Z",
     "shell.execute_reply.started": "2021-05-22T06:53:12.250744Z"
    },
    "papermill": {
     "duration": 0.377013,
     "end_time": "2021-05-22T07:43:08.047523",
     "exception": false,
     "start_time": "2021-05-22T07:43:07.670510",
     "status": "completed"
    },
    "tags": []
   },
   "outputs": [
    {
     "data": {
      "text/plain": [
       "<AxesSubplot:xlabel='Survived', ylabel='count'>"
      ]
     },
     "execution_count": 15,
     "metadata": {},
     "output_type": "execute_result"
    },
    {
     "data": {
      "image/png": "[encoded data removed]",
      "text/plain": [
       "<Figure size 720x595.44 with 1 Axes>"
      ]
     },
     "metadata": {},
     "output_type": "display_data"
    }
   ],
   "source": [
    "#How does Country affect survival\n",
    "sns.set(rc={'figure.figsize':(10,8.27)})\n",
    "sns.countplot(x = df['Survived'] , hue = 'Country', data = df)"
   ]
  },
  {
   "cell_type": "code",
   "execution_count": 16,
   "id": "commercial-immunology",
   "metadata": {
    "execution": {
     "iopub.execute_input": "2021-05-22T07:43:08.123868Z",
     "iopub.status.busy": "2021-05-22T07:43:08.123149Z",
     "iopub.status.idle": "2021-05-22T07:43:08.375882Z",
     "shell.execute_reply": "2021-05-22T07:43:08.376381Z",
     "shell.execute_reply.started": "2021-05-22T06:54:18.312825Z"
    },
    "papermill": {
     "duration": 0.29597,
     "end_time": "2021-05-22T07:43:08.376565",
     "exception": false,
     "start_time": "2021-05-22T07:43:08.080595",
     "status": "completed"
    },
    "tags": []
   },
   "outputs": [
    {
     "data": {
      "text/plain": [
       "<AxesSubplot:xlabel='Survived', ylabel='count'>"
      ]
     },
     "execution_count": 16,
     "metadata": {},
     "output_type": "execute_result"
    },
    {
     "data": {
      "image/png": "[encoded data removed]",
      "text/plain": [
       "<Figure size 720x595.44 with 1 Axes>"
      ]
     },
     "metadata": {},
     "output_type": "display_data"
    }
   ],
   "source": [
    "#How does Sex affect Survival\n",
    "sns.countplot(x = df['Survived'], hue = 'Sex' , data = df)"
   ]
  },
  {
   "cell_type": "markdown",
   "id": "narrow-union",
   "metadata": {
    "papermill": {
     "duration": 0.033065,
     "end_time": "2021-05-22T07:43:08.443146",
     "exception": false,
     "start_time": "2021-05-22T07:43:08.410081",
     "status": "completed"
    },
    "tags": []
   },
   "source": [
    "M = Male, \n",
    "F = Female"
   ]
  },
  {
   "cell_type": "code",
   "execution_count": 17,
   "id": "absent-thumbnail",
   "metadata": {
    "execution": {
     "iopub.execute_input": "2021-05-22T07:43:08.514742Z",
     "iopub.status.busy": "2021-05-22T07:43:08.514045Z",
     "iopub.status.idle": "2021-05-22T07:43:08.682556Z",
     "shell.execute_reply": "2021-05-22T07:43:08.682996Z",
     "shell.execute_reply.started": "2021-05-22T06:55:49.614388Z"
    },
    "papermill": {
     "duration": 0.205364,
     "end_time": "2021-05-22T07:43:08.683168",
     "exception": false,
     "start_time": "2021-05-22T07:43:08.477804",
     "status": "completed"
    },
    "tags": []
   },
   "outputs": [
    {
     "data": {
      "text/plain": [
       "<AxesSubplot:xlabel='Survived', ylabel='count'>"
      ]
     },
     "execution_count": 17,
     "metadata": {},
     "output_type": "execute_result"
    },
    {
     "data": {
      "image/png": "[encoded data removed]",
      "text/plain": [
       "<Figure size 720x595.44 with 1 Axes>"
      ]
     },
     "metadata": {},
     "output_type": "display_data"
    }
   ],
   "source": [
    "#How does Category affect survival\n",
    "sns.countplot(x = df['Survived'], hue = 'Category', data = df)"
   ]
  },
  {
   "cell_type": "markdown",
   "id": "simplified-albany",
   "metadata": {
    "papermill": {
     "duration": 0.034092,
     "end_time": "2021-05-22T07:43:08.750821",
     "exception": false,
     "start_time": "2021-05-22T07:43:08.716729",
     "status": "completed"
    },
    "tags": []
   },
   "source": [
    "P = Passenger, C = Crew"
   ]
  },
  {
   "cell_type": "code",
   "execution_count": 18,
   "id": "commercial-roommate",
   "metadata": {
    "execution": {
     "iopub.execute_input": "2021-05-22T07:43:08.827627Z",
     "iopub.status.busy": "2021-05-22T07:43:08.826788Z",
     "iopub.status.idle": "2021-05-22T07:43:08.829569Z",
     "shell.execute_reply": "2021-05-22T07:43:08.828908Z",
     "shell.execute_reply.started": "2021-05-22T07:01:09.853337Z"
    },
    "papermill": {
     "duration": 0.044608,
     "end_time": "2021-05-22T07:43:08.829738",
     "exception": false,
     "start_time": "2021-05-22T07:43:08.785130",
     "status": "completed"
    },
    "tags": []
   },
   "outputs": [],
   "source": [
    "#Converting the categorical (Country, Sex, Category) data into numeric data\n",
    "encoder = LabelEncoder()\n",
    "for i in list(df.columns):\n",
    "    if df[i].dtype=='object':\n",
    "        df[i]=encoder.fit_transform(df[i])"
   ]
  },
  {
   "cell_type": "code",
   "execution_count": 19,
   "id": "innocent-tattoo",
   "metadata": {
    "execution": {
     "iopub.execute_input": "2021-05-22T07:43:08.907968Z",
     "iopub.status.busy": "2021-05-22T07:43:08.907070Z",
     "iopub.status.idle": "2021-05-22T07:43:08.911306Z",
     "shell.execute_reply": "2021-05-22T07:43:08.910798Z",
     "shell.execute_reply.started": "2021-05-22T07:01:19.029029Z"
    },
    "papermill": {
     "duration": 0.047549,
     "end_time": "2021-05-22T07:43:08.911471",
     "exception": false,
     "start_time": "2021-05-22T07:43:08.863922",
     "status": "completed"
    },
    "tags": []
   },
   "outputs": [
    {
     "data": {
      "text/html": [
       "<div>\n",
       "<style scoped>\n",
       "    .dataframe tbody tr th:only-of-type {\n",
       "        vertical-align: middle;\n",
       "    }\n",
       "\n",
       "    .dataframe tbody tr th {\n",
       "        vertical-align: top;\n",
       "    }\n",
       "\n",
       "    .dataframe thead th {\n",
       "        text-align: right;\n",
       "    }\n",
       "</style>\n",
       "<table border=\"1\" class=\"dataframe\">\n",
       "  <thead>\n",
       "    <tr style=\"text-align: right;\">\n",
       "      <th></th>\n",
       "      <th>Country</th>\n",
       "      <th>Sex</th>\n",
       "      <th>Age</th>\n",
       "      <th>Category</th>\n",
       "      <th>Survived</th>\n",
       "    </tr>\n",
       "  </thead>\n",
       "  <tbody>\n",
       "    <tr>\n",
       "      <th>0</th>\n",
       "      <td>15</td>\n",
       "      <td>1</td>\n",
       "      <td>62</td>\n",
       "      <td>1</td>\n",
       "      <td>0</td>\n",
       "    </tr>\n",
       "    <tr>\n",
       "      <th>1</th>\n",
       "      <td>3</td>\n",
       "      <td>0</td>\n",
       "      <td>22</td>\n",
       "      <td>0</td>\n",
       "      <td>0</td>\n",
       "    </tr>\n",
       "    <tr>\n",
       "      <th>2</th>\n",
       "      <td>3</td>\n",
       "      <td>0</td>\n",
       "      <td>21</td>\n",
       "      <td>0</td>\n",
       "      <td>0</td>\n",
       "    </tr>\n",
       "    <tr>\n",
       "      <th>3</th>\n",
       "      <td>15</td>\n",
       "      <td>1</td>\n",
       "      <td>53</td>\n",
       "      <td>0</td>\n",
       "      <td>0</td>\n",
       "    </tr>\n",
       "    <tr>\n",
       "      <th>4</th>\n",
       "      <td>15</td>\n",
       "      <td>0</td>\n",
       "      <td>55</td>\n",
       "      <td>1</td>\n",
       "      <td>0</td>\n",
       "    </tr>\n",
       "  </tbody>\n",
       "</table>\n",
       "</div>"
      ],
      "text/plain": [
       "   Country  Sex  Age  Category  Survived\n",
       "0       15    1   62         1         0\n",
       "1        3    0   22         0         0\n",
       "2        3    0   21         0         0\n",
       "3       15    1   53         0         0\n",
       "4       15    0   55         1         0"
      ]
     },
     "execution_count": 19,
     "metadata": {},
     "output_type": "execute_result"
    }
   ],
   "source": [
    "df.head()"
   ]
  },
  {
   "cell_type": "code",
   "execution_count": 20,
   "id": "informative-nashville",
   "metadata": {
    "execution": {
     "iopub.execute_input": "2021-05-22T07:43:08.984585Z",
     "iopub.status.busy": "2021-05-22T07:43:08.983957Z",
     "iopub.status.idle": "2021-05-22T07:43:08.989143Z",
     "shell.execute_reply": "2021-05-22T07:43:08.989734Z",
     "shell.execute_reply.started": "2021-05-22T07:06:08.344935Z"
    },
    "papermill": {
     "duration": 0.04356,
     "end_time": "2021-05-22T07:43:08.989900",
     "exception": false,
     "start_time": "2021-05-22T07:43:08.946340",
     "status": "completed"
    },
    "tags": []
   },
   "outputs": [],
   "source": [
    "#Setting Target Variables and Independant Variables\n",
    "X = df.loc[:, ['Country', 'Sex', 'Age', 'Category']]\n",
    "y = df.loc[:, 'Survived']"
   ]
  },
  {
   "cell_type": "code",
   "execution_count": 21,
   "id": "allied-excitement",
   "metadata": {
    "execution": {
     "iopub.execute_input": "2021-05-22T07:43:09.062266Z",
     "iopub.status.busy": "2021-05-22T07:43:09.061646Z",
     "iopub.status.idle": "2021-05-22T07:43:09.069886Z",
     "shell.execute_reply": "2021-05-22T07:43:09.069355Z",
     "shell.execute_reply.started": "2021-05-22T07:15:44.914252Z"
    },
    "papermill": {
     "duration": 0.045402,
     "end_time": "2021-05-22T07:43:09.070027",
     "exception": false,
     "start_time": "2021-05-22T07:43:09.024625",
     "status": "completed"
    },
    "tags": []
   },
   "outputs": [],
   "source": [
    "#Splitting data into training data and testing data\n",
    "X_train, X_test, y_train, y_test = train_test_split(X, y, random_state = 0, test_size = 0.2)"
   ]
  },
  {
   "cell_type": "code",
   "execution_count": 22,
   "id": "soviet-boost",
   "metadata": {
    "execution": {
     "iopub.execute_input": "2021-05-22T07:43:09.147177Z",
     "iopub.status.busy": "2021-05-22T07:43:09.146594Z",
     "iopub.status.idle": "2021-05-22T07:43:09.354925Z",
     "shell.execute_reply": "2021-05-22T07:43:09.354256Z",
     "shell.execute_reply.started": "2021-05-22T07:17:04.67541Z"
    },
    "papermill": {
     "duration": 0.250277,
     "end_time": "2021-05-22T07:43:09.355069",
     "exception": false,
     "start_time": "2021-05-22T07:43:09.104792",
     "status": "completed"
    },
    "tags": []
   },
   "outputs": [],
   "source": [
    "#Test Using Random Forest Classifier\n",
    "#With help of https://www.kaggle.com/nelsonmalgro/newbie-titanic\n",
    "model = RandomForestClassifier(n_estimators=100, max_depth=7, random_state=1)\n",
    "model.fit(X_train, y_train)\n",
    "preds = model.predict(X_test)"
   ]
  },
  {
   "cell_type": "code",
   "execution_count": 23,
   "id": "unusual-shock",
   "metadata": {
    "execution": {
     "iopub.execute_input": "2021-05-22T07:43:09.432238Z",
     "iopub.status.busy": "2021-05-22T07:43:09.431653Z",
     "iopub.status.idle": "2021-05-22T07:43:09.454958Z",
     "shell.execute_reply": "2021-05-22T07:43:09.455451Z",
     "shell.execute_reply.started": "2021-05-22T07:21:45.345915Z"
    },
    "papermill": {
     "duration": 0.065768,
     "end_time": "2021-05-22T07:43:09.455672",
     "exception": false,
     "start_time": "2021-05-22T07:43:09.389904",
     "status": "completed"
    },
    "tags": []
   },
   "outputs": [
    {
     "name": "stdout",
     "output_type": "stream",
     "text": [
      "Accuracy: 0.8836915297092288\n",
      "Mean Absolute Error: 0.15151515151515152\n"
     ]
    }
   ],
   "source": [
    "print(\"Accuracy:\", model.score(X_train, y_train))\n",
    "print(\"Mean Absolute Error:\", mean_absolute_error(y_test, preds))"
   ]
  },
  {
   "cell_type": "code",
   "execution_count": 24,
   "id": "wrong-membership",
   "metadata": {
    "execution": {
     "iopub.execute_input": "2021-05-22T07:43:09.530032Z",
     "iopub.status.busy": "2021-05-22T07:43:09.529374Z",
     "iopub.status.idle": "2021-05-22T07:43:09.559295Z",
     "shell.execute_reply": "2021-05-22T07:43:09.558210Z",
     "shell.execute_reply.started": "2021-05-22T07:24:01.093064Z"
    },
    "papermill": {
     "duration": 0.067326,
     "end_time": "2021-05-22T07:43:09.559446",
     "exception": false,
     "start_time": "2021-05-22T07:43:09.492120",
     "status": "completed"
    },
    "tags": []
   },
   "outputs": [],
   "source": [
    "#Test Using Logistic Regression\n",
    "model = LogisticRegression(random_state = 1)\n",
    "model.fit(X_train, y_train)\n",
    "preds = model.predict(X_test)"
   ]
  },
  {
   "cell_type": "code",
   "execution_count": 25,
   "id": "printable-miami",
   "metadata": {
    "execution": {
     "iopub.execute_input": "2021-05-22T07:43:09.638658Z",
     "iopub.status.busy": "2021-05-22T07:43:09.638004Z",
     "iopub.status.idle": "2021-05-22T07:43:09.640591Z",
     "shell.execute_reply": "2021-05-22T07:43:09.641065Z",
     "shell.execute_reply.started": "2021-05-22T07:24:15.812743Z"
    },
    "papermill": {
     "duration": 0.046342,
     "end_time": "2021-05-22T07:43:09.641241",
     "exception": false,
     "start_time": "2021-05-22T07:43:09.594899",
     "status": "completed"
    },
    "tags": []
   },
   "outputs": [
    {
     "name": "stdout",
     "output_type": "stream",
     "text": [
      "Accuracy: 0.8647281921618205\n",
      "Mean Absolute Error: 0.15151515151515152\n"
     ]
    }
   ],
   "source": [
    "print(\"Accuracy:\", model.score(X_train, y_train))\n",
    "print(\"Mean Absolute Error:\", mean_absolute_error(y_test, preds))"
   ]
  },
  {
   "cell_type": "code",
   "execution_count": 26,
   "id": "trying-bargain",
   "metadata": {
    "execution": {
     "iopub.execute_input": "2021-05-22T07:43:09.716119Z",
     "iopub.status.busy": "2021-05-22T07:43:09.715475Z",
     "iopub.status.idle": "2021-05-22T07:43:09.732493Z",
     "shell.execute_reply": "2021-05-22T07:43:09.733043Z",
     "shell.execute_reply.started": "2021-05-22T07:26:49.114353Z"
    },
    "papermill": {
     "duration": 0.055609,
     "end_time": "2021-05-22T07:43:09.733236",
     "exception": false,
     "start_time": "2021-05-22T07:43:09.677627",
     "status": "completed"
    },
    "tags": []
   },
   "outputs": [],
   "source": [
    "#Test Using K Neighbours Classifier\n",
    "model = KNeighborsClassifier(n_neighbors = 5)\n",
    "model.fit(X_train, y_train)\n",
    "preds = model.predict(X_test)"
   ]
  },
  {
   "cell_type": "code",
   "execution_count": 27,
   "id": "welsh-amplifier",
   "metadata": {
    "execution": {
     "iopub.execute_input": "2021-05-22T07:43:09.807455Z",
     "iopub.status.busy": "2021-05-22T07:43:09.806823Z",
     "iopub.status.idle": "2021-05-22T07:43:09.846136Z",
     "shell.execute_reply": "2021-05-22T07:43:09.846804Z",
     "shell.execute_reply.started": "2021-05-22T07:26:59.272984Z"
    },
    "papermill": {
     "duration": 0.078516,
     "end_time": "2021-05-22T07:43:09.847025",
     "exception": false,
     "start_time": "2021-05-22T07:43:09.768509",
     "status": "completed"
    },
    "tags": []
   },
   "outputs": [
    {
     "name": "stdout",
     "output_type": "stream",
     "text": [
      "Accuracy: 0.877370417193426\n",
      "Mean Absolute Error: 0.15151515151515152\n"
     ]
    }
   ],
   "source": [
    "print(\"Accuracy:\", model.score(X_train, y_train))\n",
    "print(\"Mean Absolute Error:\", mean_absolute_error(y_test, preds))"
   ]
  },
  {
   "cell_type": "code",
   "execution_count": 28,
   "id": "undefined-petite",
   "metadata": {
    "execution": {
     "iopub.execute_input": "2021-05-22T07:43:09.926131Z",
     "iopub.status.busy": "2021-05-22T07:43:09.925512Z",
     "iopub.status.idle": "2021-05-22T07:43:09.930662Z",
     "shell.execute_reply": "2021-05-22T07:43:09.931144Z",
     "shell.execute_reply.started": "2021-05-22T07:28:27.012273Z"
    },
    "papermill": {
     "duration": 0.048315,
     "end_time": "2021-05-22T07:43:09.931332",
     "exception": false,
     "start_time": "2021-05-22T07:43:09.883017",
     "status": "completed"
    },
    "tags": []
   },
   "outputs": [],
   "source": [
    "#Test Using Decision Trees\n",
    "model = DecisionTreeClassifier(random_state=1)\n",
    "model.fit(X_train, y_train)\n",
    "preds = model.predict(X_test)"
   ]
  },
  {
   "cell_type": "code",
   "execution_count": 29,
   "id": "brutal-glenn",
   "metadata": {
    "execution": {
     "iopub.execute_input": "2021-05-22T07:43:10.009343Z",
     "iopub.status.busy": "2021-05-22T07:43:10.008712Z",
     "iopub.status.idle": "2021-05-22T07:43:10.014173Z",
     "shell.execute_reply": "2021-05-22T07:43:10.013659Z",
     "shell.execute_reply.started": "2021-05-22T07:28:37.053382Z"
    },
    "papermill": {
     "duration": 0.04752,
     "end_time": "2021-05-22T07:43:10.014320",
     "exception": false,
     "start_time": "2021-05-22T07:43:09.966800",
     "status": "completed"
    },
    "tags": []
   },
   "outputs": [
    {
     "name": "stdout",
     "output_type": "stream",
     "text": [
      "Accuracy: 0.9203539823008849\n",
      "Mean Absolute Error: 0.15656565656565657\n"
     ]
    }
   ],
   "source": [
    "print(\"Accuracy:\", model.score(X_train, y_train))\n",
    "print(\"Mean Absolute Error:\", mean_absolute_error(y_test, preds))"
   ]
  },
  {
   "cell_type": "code",
   "execution_count": 30,
   "id": "homeless-improvement",
   "metadata": {
    "execution": {
     "iopub.execute_input": "2021-05-22T07:43:10.093720Z",
     "iopub.status.busy": "2021-05-22T07:43:10.093095Z",
     "iopub.status.idle": "2021-05-22T07:43:10.190988Z",
     "shell.execute_reply": "2021-05-22T07:43:10.190368Z",
     "shell.execute_reply.started": "2021-05-22T07:38:59.900928Z"
    },
    "papermill": {
     "duration": 0.140442,
     "end_time": "2021-05-22T07:43:10.191125",
     "exception": false,
     "start_time": "2021-05-22T07:43:10.050683",
     "status": "completed"
    },
    "tags": []
   },
   "outputs": [],
   "source": [
    "#Test Using Gradient Boosting Classifier\n",
    "model = GradientBoostingClassifier(learning_rate = 0.0001)\n",
    "model.fit(X_train, y_train)\n",
    "preds = model.predict(X_test)"
   ]
  },
  {
   "cell_type": "code",
   "execution_count": 31,
   "id": "coordinate-pressure",
   "metadata": {
    "execution": {
     "iopub.execute_input": "2021-05-22T07:43:10.271257Z",
     "iopub.status.busy": "2021-05-22T07:43:10.270143Z",
     "iopub.status.idle": "2021-05-22T07:43:10.276967Z",
     "shell.execute_reply": "2021-05-22T07:43:10.277402Z",
     "shell.execute_reply.started": "2021-05-22T07:39:11.1327Z"
    },
    "papermill": {
     "duration": 0.049924,
     "end_time": "2021-05-22T07:43:10.277568",
     "exception": false,
     "start_time": "2021-05-22T07:43:10.227644",
     "status": "completed"
    },
    "tags": []
   },
   "outputs": [
    {
     "name": "stdout",
     "output_type": "stream",
     "text": [
      "Accuracy: 0.8647281921618205\n",
      "Mean Absolute Error: 0.15151515151515152\n"
     ]
    }
   ],
   "source": [
    "print(\"Accuracy:\", model.score(X_train, y_train))\n",
    "print(\"Mean Absolute Error:\", mean_absolute_error(y_test, preds))"
   ]
  },
  {
   "cell_type": "markdown",
   "id": "sensitive-transport",
   "metadata": {
    "papermill": {
     "duration": 0.036843,
     "end_time": "2021-05-22T07:43:10.351019",
     "exception": false,
     "start_time": "2021-05-22T07:43:10.314176",
     "status": "completed"
    },
    "tags": []
   },
   "source": [
    "#### Algorithms Used: \n",
    "##### Random Forest Classifier (Acc ~88%)\n",
    "##### Logistic Regression (Acc ~86%)\n",
    "##### K Neighbours Classifier (Acc ~87%)\n",
    "##### Decision Trees Classifier (Acc ~92%)\n",
    "##### Gradient Boosting Classifier (Acc ~86%)\n",
    "\n",
    "Decision Trees gave the best accuracy score of around 92%"
   ]
  }
 ],
 "metadata": {
  "kernelspec": {
   "display_name": "Python 3",
   "language": "python",
   "name": "python3"
  },
  "language_info": {
   "codemirror_mode": {
    "name": "ipython",
    "version": 3
   },
   "file_extension": ".py",
   "mimetype": "text/x-python",
   "name": "python",
   "nbconvert_exporter": "python",
   "pygments_lexer": "ipython3",
   "version": "3.7.10"
  },
  "papermill": {
   "default_parameters": {},
   "duration": 13.741216,
   "end_time": "2021-05-22T07:43:11.653068",
   "environment_variables": {},
   "exception": null,
   "input_path": "__notebook__.ipynb",
   "output_path": "__notebook__.ipynb",
   "parameters": {},
   "start_time": "2021-05-22T07:42:57.911852",
   "version": "2.3.3"
  }
 },
 "nbformat": 4,
 "nbformat_minor": 5
}
