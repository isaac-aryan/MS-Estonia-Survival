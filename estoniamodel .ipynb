{
 "cells": [
  {
   "cell_type": "markdown",
   "id": "17770a04",
   "metadata": {},
   "source": [
    "# MS ESTONIA SURVIVAL \n",
    "\n",
    "The MS Estonia Survival dataset was one of the first datasets I tried learning Machine Learning concepts with so I decided to make it end to end. I don't have much experience with this so it's good practice for me too."
   ]
  },
  {
   "cell_type": "markdown",
   "id": "dd9e8c8a",
   "metadata": {},
   "source": [
    "First I imported all the requirements:"
   ]
  },
  {
   "cell_type": "code",
   "execution_count": 15,
   "id": "f8db9fa7",
   "metadata": {},
   "outputs": [],
   "source": [
    "#IMPORTED STUFF\n",
    "import numpy as np\n",
    "import pandas as pd\n",
    "import matplotlib.pyplot as plt\n",
    "import seaborn as sns\n",
    "from sklearn.model_selection import train_test_split\n",
    "from sklearn.preprocessing import LabelEncoder\n",
    "import pickle\n",
    "%matplotlib inline"
   ]
  },
  {
   "cell_type": "markdown",
   "id": "21d76102",
   "metadata": {},
   "source": [
    "I will be training models with all these algorithms and then using the most accurate one in the Flask app.\n",
    "\n",
    "Models:  \n",
    "    1. Random Forest Classifier   \n",
    "    2. Logistic Regression    \n",
    "    3. K Neighbours Classifier  \n",
    "    4. Decision Tree Classifier   \n",
    "    5. Gradient Boosting Classifier"
   ]
  },
  {
   "cell_type": "code",
   "execution_count": 16,
   "id": "6171d558",
   "metadata": {},
   "outputs": [],
   "source": [
    "#IMPORTED ML ALGORITHMS\n",
    "from sklearn.ensemble import RandomForestClassifier\n",
    "from sklearn.linear_model import LogisticRegression\n",
    "from sklearn.neighbors import KNeighborsClassifier\n",
    "from sklearn.tree import DecisionTreeClassifier\n",
    "from sklearn.ensemble import GradientBoostingClassifier\n",
    "\n",
    "#IMPORTING MAE\n",
    "from sklearn.metrics import mean_absolute_error"
   ]
  },
  {
   "cell_type": "markdown",
   "id": "fa440336",
   "metadata": {},
   "source": [
    "First, we need to read the data from the CSV file."
   ]
  },
  {
   "cell_type": "code",
   "execution_count": 17,
   "id": "2e102195",
   "metadata": {},
   "outputs": [],
   "source": [
    "#Reading the data\n",
    "path = '/Users/aryanbhobe/Desktop/Code/Machine Learning/MS-Estonia-Survival/estonia-passenger-list.csv'\n",
    "data = pd.read_csv(path)"
   ]
  },
  {
   "cell_type": "markdown",
   "id": "d2a11d03",
   "metadata": {},
   "source": [
    "## Basic Data Exploration"
   ]
  },
  {
   "cell_type": "code",
   "execution_count": 18,
   "id": "feb57623",
   "metadata": {},
   "outputs": [
    {
     "data": {
      "text/html": [
       "<div>\n",
       "<style scoped>\n",
       "    .dataframe tbody tr th:only-of-type {\n",
       "        vertical-align: middle;\n",
       "    }\n",
       "\n",
       "    .dataframe tbody tr th {\n",
       "        vertical-align: top;\n",
       "    }\n",
       "\n",
       "    .dataframe thead th {\n",
       "        text-align: right;\n",
       "    }\n",
       "</style>\n",
       "<table border=\"1\" class=\"dataframe\">\n",
       "  <thead>\n",
       "    <tr style=\"text-align: right;\">\n",
       "      <th></th>\n",
       "      <th>PassengerId</th>\n",
       "      <th>Country</th>\n",
       "      <th>Firstname</th>\n",
       "      <th>Lastname</th>\n",
       "      <th>Sex</th>\n",
       "      <th>Age</th>\n",
       "      <th>Category</th>\n",
       "      <th>Survived</th>\n",
       "    </tr>\n",
       "  </thead>\n",
       "  <tbody>\n",
       "    <tr>\n",
       "      <th>0</th>\n",
       "      <td>1</td>\n",
       "      <td>Sweden</td>\n",
       "      <td>ARVID KALLE</td>\n",
       "      <td>AADLI</td>\n",
       "      <td>M</td>\n",
       "      <td>62</td>\n",
       "      <td>P</td>\n",
       "      <td>0</td>\n",
       "    </tr>\n",
       "    <tr>\n",
       "      <th>1</th>\n",
       "      <td>2</td>\n",
       "      <td>Estonia</td>\n",
       "      <td>LEA</td>\n",
       "      <td>AALISTE</td>\n",
       "      <td>F</td>\n",
       "      <td>22</td>\n",
       "      <td>C</td>\n",
       "      <td>0</td>\n",
       "    </tr>\n",
       "    <tr>\n",
       "      <th>2</th>\n",
       "      <td>3</td>\n",
       "      <td>Estonia</td>\n",
       "      <td>AIRI</td>\n",
       "      <td>AAVASTE</td>\n",
       "      <td>F</td>\n",
       "      <td>21</td>\n",
       "      <td>C</td>\n",
       "      <td>0</td>\n",
       "    </tr>\n",
       "    <tr>\n",
       "      <th>3</th>\n",
       "      <td>4</td>\n",
       "      <td>Sweden</td>\n",
       "      <td>JURI</td>\n",
       "      <td>AAVIK</td>\n",
       "      <td>M</td>\n",
       "      <td>53</td>\n",
       "      <td>C</td>\n",
       "      <td>0</td>\n",
       "    </tr>\n",
       "    <tr>\n",
       "      <th>4</th>\n",
       "      <td>5</td>\n",
       "      <td>Sweden</td>\n",
       "      <td>BRITTA ELISABET</td>\n",
       "      <td>AHLSTROM</td>\n",
       "      <td>F</td>\n",
       "      <td>55</td>\n",
       "      <td>P</td>\n",
       "      <td>0</td>\n",
       "    </tr>\n",
       "  </tbody>\n",
       "</table>\n",
       "</div>"
      ],
      "text/plain": [
       "   PassengerId  Country        Firstname  Lastname Sex  Age Category  Survived\n",
       "0            1   Sweden      ARVID KALLE     AADLI   M   62        P         0\n",
       "1            2  Estonia              LEA   AALISTE   F   22        C         0\n",
       "2            3  Estonia             AIRI   AAVASTE   F   21        C         0\n",
       "3            4   Sweden             JURI     AAVIK   M   53        C         0\n",
       "4            5   Sweden  BRITTA ELISABET  AHLSTROM   F   55        P         0"
      ]
     },
     "execution_count": 18,
     "metadata": {},
     "output_type": "execute_result"
    }
   ],
   "source": [
    "#Checking first few rows of data\n",
    "data.head()"
   ]
  },
  {
   "cell_type": "code",
   "execution_count": 19,
   "id": "b2be59da",
   "metadata": {},
   "outputs": [],
   "source": [
    "#We don't require the columns PassengerId, Firstname and Lastname so we drop those columns.\n",
    "data = data.drop(['PassengerId', 'Firstname', 'Lastname'], axis=1)"
   ]
  },
  {
   "cell_type": "code",
   "execution_count": 20,
   "id": "638f5b73",
   "metadata": {},
   "outputs": [
    {
     "data": {
      "text/plain": [
       "(989, 5)"
      ]
     },
     "execution_count": 20,
     "metadata": {},
     "output_type": "execute_result"
    }
   ],
   "source": [
    "data.shape"
   ]
  },
  {
   "cell_type": "code",
   "execution_count": 21,
   "id": "a2207e00",
   "metadata": {},
   "outputs": [
    {
     "name": "stdout",
     "output_type": "stream",
     "text": [
      "<class 'pandas.core.frame.DataFrame'>\n",
      "RangeIndex: 989 entries, 0 to 988\n",
      "Data columns (total 5 columns):\n",
      " #   Column    Non-Null Count  Dtype \n",
      "---  ------    --------------  ----- \n",
      " 0   Country   989 non-null    object\n",
      " 1   Sex       989 non-null    object\n",
      " 2   Age       989 non-null    int64 \n",
      " 3   Category  989 non-null    object\n",
      " 4   Survived  989 non-null    int64 \n",
      "dtypes: int64(2), object(3)\n",
      "memory usage: 38.8+ KB\n"
     ]
    }
   ],
   "source": [
    "#Checking Data Types and Null Counts\n",
    "data.info()"
   ]
  },
  {
   "cell_type": "code",
   "execution_count": 22,
   "id": "4dc29632",
   "metadata": {},
   "outputs": [
    {
     "data": {
      "text/plain": [
       "Country     0\n",
       "Sex         0\n",
       "Age         0\n",
       "Category    0\n",
       "Survived    0\n",
       "dtype: int64"
      ]
     },
     "execution_count": 22,
     "metadata": {},
     "output_type": "execute_result"
    }
   ],
   "source": [
    "#Checking how many null values we have\n",
    "data.isnull().sum()"
   ]
  },
  {
   "cell_type": "code",
   "execution_count": 23,
   "id": "68a51737",
   "metadata": {},
   "outputs": [
    {
     "data": {
      "text/html": [
       "<div>\n",
       "<style scoped>\n",
       "    .dataframe tbody tr th:only-of-type {\n",
       "        vertical-align: middle;\n",
       "    }\n",
       "\n",
       "    .dataframe tbody tr th {\n",
       "        vertical-align: top;\n",
       "    }\n",
       "\n",
       "    .dataframe thead th {\n",
       "        text-align: right;\n",
       "    }\n",
       "</style>\n",
       "<table border=\"1\" class=\"dataframe\">\n",
       "  <thead>\n",
       "    <tr style=\"text-align: right;\">\n",
       "      <th></th>\n",
       "      <th>Age</th>\n",
       "      <th>Survived</th>\n",
       "    </tr>\n",
       "  </thead>\n",
       "  <tbody>\n",
       "    <tr>\n",
       "      <th>count</th>\n",
       "      <td>989.000000</td>\n",
       "      <td>989.000000</td>\n",
       "    </tr>\n",
       "    <tr>\n",
       "      <th>mean</th>\n",
       "      <td>44.575329</td>\n",
       "      <td>0.138524</td>\n",
       "    </tr>\n",
       "    <tr>\n",
       "      <th>std</th>\n",
       "      <td>17.235146</td>\n",
       "      <td>0.345624</td>\n",
       "    </tr>\n",
       "    <tr>\n",
       "      <th>min</th>\n",
       "      <td>0.000000</td>\n",
       "      <td>0.000000</td>\n",
       "    </tr>\n",
       "    <tr>\n",
       "      <th>25%</th>\n",
       "      <td>30.000000</td>\n",
       "      <td>0.000000</td>\n",
       "    </tr>\n",
       "    <tr>\n",
       "      <th>50%</th>\n",
       "      <td>44.000000</td>\n",
       "      <td>0.000000</td>\n",
       "    </tr>\n",
       "    <tr>\n",
       "      <th>75%</th>\n",
       "      <td>59.000000</td>\n",
       "      <td>0.000000</td>\n",
       "    </tr>\n",
       "    <tr>\n",
       "      <th>max</th>\n",
       "      <td>87.000000</td>\n",
       "      <td>1.000000</td>\n",
       "    </tr>\n",
       "  </tbody>\n",
       "</table>\n",
       "</div>"
      ],
      "text/plain": [
       "              Age    Survived\n",
       "count  989.000000  989.000000\n",
       "mean    44.575329    0.138524\n",
       "std     17.235146    0.345624\n",
       "min      0.000000    0.000000\n",
       "25%     30.000000    0.000000\n",
       "50%     44.000000    0.000000\n",
       "75%     59.000000    0.000000\n",
       "max     87.000000    1.000000"
      ]
     },
     "execution_count": 23,
     "metadata": {},
     "output_type": "execute_result"
    }
   ],
   "source": [
    "data.describe()"
   ]
  },
  {
   "cell_type": "code",
   "execution_count": 24,
   "id": "fc8e880b",
   "metadata": {},
   "outputs": [
    {
     "data": {
      "text/plain": [
       "Sweden           550\n",
       "Estonia          344\n",
       "Latvia            28\n",
       "Finland           16\n",
       "Russia            14\n",
       "Norway             9\n",
       "Germany            8\n",
       "Denmark            6\n",
       "Lithuania          4\n",
       "Morocco            2\n",
       "Great Britain      2\n",
       "Netherlands        2\n",
       "Canada             1\n",
       "France             1\n",
       "Belarus            1\n",
       "Nigeria            1\n",
       "Name: Country, dtype: int64"
      ]
     },
     "execution_count": 24,
     "metadata": {},
     "output_type": "execute_result"
    }
   ],
   "source": [
    "#Checking Value Counts\n",
    "\n",
    "#Country Value Counts\n",
    "data.Country.value_counts()"
   ]
  },
  {
   "cell_type": "code",
   "execution_count": 25,
   "id": "fe008e03",
   "metadata": {},
   "outputs": [
    {
     "data": {
      "text/plain": [
       "M    503\n",
       "F    486\n",
       "Name: Sex, dtype: int64"
      ]
     },
     "execution_count": 25,
     "metadata": {},
     "output_type": "execute_result"
    }
   ],
   "source": [
    "#Sex Value Counts\n",
    "data.Sex.value_counts()"
   ]
  },
  {
   "cell_type": "code",
   "execution_count": 26,
   "id": "dd9a3bfa",
   "metadata": {},
   "outputs": [
    {
     "data": {
      "text/plain": [
       "P    796\n",
       "C    193\n",
       "Name: Category, dtype: int64"
      ]
     },
     "execution_count": 26,
     "metadata": {},
     "output_type": "execute_result"
    }
   ],
   "source": [
    "#Category Value Counts\n",
    "data.Category.value_counts()"
   ]
  },
  {
   "cell_type": "markdown",
   "id": "8499348f",
   "metadata": {},
   "source": [
    "## Basic Data Visualisation"
   ]
  },
  {
   "cell_type": "code",
   "execution_count": 27,
   "id": "2ad1fd08",
   "metadata": {},
   "outputs": [
    {
     "data": {
      "image/png": "[encoded data removed]",
      "text/plain": [
       "<Figure size 432x288 with 1 Axes>"
      ]
     },
     "metadata": {
      "needs_background": "light"
     },
     "output_type": "display_data"
    }
   ],
   "source": [
    "#Plotting Histogram For Age\n",
    "plt.hist(data.Age)\n",
    "plt.title(\"Age\")\n",
    "plt.show()"
   ]
  },
  {
   "cell_type": "code",
   "execution_count": 28,
   "id": "eebb0319",
   "metadata": {},
   "outputs": [
    {
     "data": {
      "text/plain": [
       "<AxesSubplot:xlabel='Survived', ylabel='count'>"
      ]
     },
     "execution_count": 28,
     "metadata": {},
     "output_type": "execute_result"
    },
    {
     "data": {
      "image/png": "[encoded data removed]",
      "text/plain": [
       "<Figure size 720x595.44 with 1 Axes>"
      ]
     },
     "metadata": {},
     "output_type": "display_data"
    }
   ],
   "source": [
    "#How does Country affect survival\n",
    "sns.set(rc={'figure.figsize':(10,8.27)})\n",
    "sns.countplot(x = data['Survived'] , hue = 'Country', data = data)"
   ]
  },
  {
   "cell_type": "code",
   "execution_count": 29,
   "id": "2c281656",
   "metadata": {},
   "outputs": [
    {
     "data": {
      "text/plain": [
       "<AxesSubplot:xlabel='Survived', ylabel='count'>"
      ]
     },
     "execution_count": 29,
     "metadata": {},
     "output_type": "execute_result"
    },
    {
     "data": {
      "image/png": "[encoded data removed]",
      "text/plain": [
       "<Figure size 720x595.44 with 1 Axes>"
      ]
     },
     "metadata": {},
     "output_type": "display_data"
    }
   ],
   "source": [
    "#How does Sex affect Survival\n",
    "sns.countplot(x = data['Survived'], hue = 'Sex' , data = data)"
   ]
  },
  {
   "cell_type": "code",
   "execution_count": 30,
   "id": "38460401",
   "metadata": {},
   "outputs": [
    {
     "data": {
      "text/plain": [
       "<AxesSubplot:xlabel='Survived', ylabel='count'>"
      ]
     },
     "execution_count": 30,
     "metadata": {},
     "output_type": "execute_result"
    },
    {
     "data": {
      "image/png": "[encoded data removed]",
      "text/plain": [
       "<Figure size 720x595.44 with 1 Axes>"
      ]
     },
     "metadata": {},
     "output_type": "display_data"
    }
   ],
   "source": [
    "#How does Category affect survival\n",
    "sns.countplot(x = data['Survived'], hue = 'Category', data = data)"
   ]
  },
  {
   "cell_type": "markdown",
   "id": "0071d187",
   "metadata": {},
   "source": [
    "## Preprocessing the data"
   ]
  },
  {
   "cell_type": "code",
   "execution_count": 31,
   "id": "584985b0",
   "metadata": {},
   "outputs": [],
   "source": [
    "#Converting the categorical (Country, Sex, Category) data into numeric data\n",
    "encoder = LabelEncoder()\n",
    "for i in list(data.columns):\n",
    "    if data[i].dtype=='object':\n",
    "        data[i]=encoder.fit_transform(data[i])"
   ]
  },
  {
   "cell_type": "code",
   "execution_count": 34,
   "id": "241730d8",
   "metadata": {},
   "outputs": [
    {
     "data": {
      "text/html": [
       "<div>\n",
       "<style scoped>\n",
       "    .dataframe tbody tr th:only-of-type {\n",
       "        vertical-align: middle;\n",
       "    }\n",
       "\n",
       "    .dataframe tbody tr th {\n",
       "        vertical-align: top;\n",
       "    }\n",
       "\n",
       "    .dataframe thead th {\n",
       "        text-align: right;\n",
       "    }\n",
       "</style>\n",
       "<table border=\"1\" class=\"dataframe\">\n",
       "  <thead>\n",
       "    <tr style=\"text-align: right;\">\n",
       "      <th></th>\n",
       "      <th>Country</th>\n",
       "      <th>Sex</th>\n",
       "      <th>Age</th>\n",
       "      <th>Category</th>\n",
       "      <th>Survived</th>\n",
       "    </tr>\n",
       "  </thead>\n",
       "  <tbody>\n",
       "    <tr>\n",
       "      <th>0</th>\n",
       "      <td>15</td>\n",
       "      <td>1</td>\n",
       "      <td>62</td>\n",
       "      <td>1</td>\n",
       "      <td>0</td>\n",
       "    </tr>\n",
       "    <tr>\n",
       "      <th>1</th>\n",
       "      <td>3</td>\n",
       "      <td>0</td>\n",
       "      <td>22</td>\n",
       "      <td>0</td>\n",
       "      <td>0</td>\n",
       "    </tr>\n",
       "    <tr>\n",
       "      <th>2</th>\n",
       "      <td>3</td>\n",
       "      <td>0</td>\n",
       "      <td>21</td>\n",
       "      <td>0</td>\n",
       "      <td>0</td>\n",
       "    </tr>\n",
       "    <tr>\n",
       "      <th>3</th>\n",
       "      <td>15</td>\n",
       "      <td>1</td>\n",
       "      <td>53</td>\n",
       "      <td>0</td>\n",
       "      <td>0</td>\n",
       "    </tr>\n",
       "    <tr>\n",
       "      <th>4</th>\n",
       "      <td>15</td>\n",
       "      <td>0</td>\n",
       "      <td>55</td>\n",
       "      <td>1</td>\n",
       "      <td>0</td>\n",
       "    </tr>\n",
       "  </tbody>\n",
       "</table>\n",
       "</div>"
      ],
      "text/plain": [
       "   Country  Sex  Age  Category  Survived\n",
       "0       15    1   62         1         0\n",
       "1        3    0   22         0         0\n",
       "2        3    0   21         0         0\n",
       "3       15    1   53         0         0\n",
       "4       15    0   55         1         0"
      ]
     },
     "execution_count": 34,
     "metadata": {},
     "output_type": "execute_result"
    }
   ],
   "source": [
    "data.head()"
   ]
  },
  {
   "cell_type": "code",
   "execution_count": 35,
   "id": "66d9b6bf",
   "metadata": {},
   "outputs": [],
   "source": [
    "#Setting Target Variables and Independant Variables\n",
    "X = data.loc[:, ['Country', 'Sex', 'Age', 'Category']]\n",
    "y = data.loc[:, 'Survived']"
   ]
  },
  {
   "cell_type": "code",
   "execution_count": 36,
   "id": "8f818ba6",
   "metadata": {},
   "outputs": [],
   "source": [
    "#Splitting data into training data and testing data\n",
    "X_train, X_test, y_train, y_test = train_test_split(X, y, random_state = 0, test_size = 0.2)"
   ]
  },
  {
   "cell_type": "markdown",
   "id": "44cca702",
   "metadata": {},
   "source": [
    "## Training and testing the models"
   ]
  },
  {
   "cell_type": "markdown",
   "id": "4045402f",
   "metadata": {},
   "source": [
    "#### 1. Random Forest Classifier"
   ]
  },
  {
   "cell_type": "code",
   "execution_count": 37,
   "id": "052aca16",
   "metadata": {},
   "outputs": [],
   "source": [
    "#I referred to: https://www.kaggle.com/nelsonmalgro/newbie-titanic\n",
    "randomforest = RandomForestClassifier(n_estimators=100, max_depth=7, random_state=1)\n",
    "randomforest.fit(X_train, y_train)\n",
    "preds = randomforest.predict(X_test)"
   ]
  },
  {
   "cell_type": "code",
   "execution_count": 38,
   "id": "7c06dfaf",
   "metadata": {},
   "outputs": [
    {
     "name": "stdout",
     "output_type": "stream",
     "text": [
      "Accuracy: 0.8836915297092288\n",
      "Mean Absolute Error: 0.15151515151515152\n"
     ]
    }
   ],
   "source": [
    "print(\"Accuracy:\", randomforest.score(X_train, y_train))\n",
    "print(\"Mean Absolute Error:\", mean_absolute_error(y_test, preds))"
   ]
  },
  {
   "cell_type": "markdown",
   "id": "8018e11b",
   "metadata": {},
   "source": [
    "The model is about 88.4% accurate."
   ]
  },
  {
   "cell_type": "markdown",
   "id": "7d4e29e4",
   "metadata": {},
   "source": [
    "#### 2. Logistic Regression"
   ]
  },
  {
   "cell_type": "code",
   "execution_count": 39,
   "id": "2643bcc1",
   "metadata": {},
   "outputs": [],
   "source": [
    "logreg = LogisticRegression(random_state = 1)\n",
    "logreg.fit(X_train, y_train)\n",
    "preds = logreg.predict(X_test)"
   ]
  },
  {
   "cell_type": "code",
   "execution_count": 40,
   "id": "9ae172d6",
   "metadata": {},
   "outputs": [
    {
     "name": "stdout",
     "output_type": "stream",
     "text": [
      "Accuracy: 0.8647281921618205\n",
      "Mean Absolute Error: 0.15151515151515152\n"
     ]
    }
   ],
   "source": [
    "print(\"Accuracy:\", logreg.score(X_train, y_train))\n",
    "print(\"Mean Absolute Error:\", mean_absolute_error(y_test, preds))"
   ]
  },
  {
   "cell_type": "markdown",
   "id": "1c8b7fd5",
   "metadata": {},
   "source": [
    "The model is about 86.5% accurate."
   ]
  },
  {
   "cell_type": "markdown",
   "id": "ba5ef78b",
   "metadata": {},
   "source": [
    "#### 3. K Neighbours Classifier"
   ]
  },
  {
   "cell_type": "code",
   "execution_count": 41,
   "id": "383fefeb",
   "metadata": {},
   "outputs": [],
   "source": [
    "kncl = KNeighborsClassifier(n_neighbors = 5)\n",
    "kncl.fit(X_train, y_train)\n",
    "preds = kncl.predict(X_test)"
   ]
  },
  {
   "cell_type": "code",
   "execution_count": 42,
   "id": "4c259369",
   "metadata": {},
   "outputs": [
    {
     "name": "stdout",
     "output_type": "stream",
     "text": [
      "Accuracy: 0.877370417193426\n",
      "Mean Absolute Error: 0.15151515151515152\n"
     ]
    }
   ],
   "source": [
    "print(\"Accuracy:\", kncl.score(X_train, y_train))\n",
    "print(\"Mean Absolute Error:\", mean_absolute_error(y_test, preds))"
   ]
  },
  {
   "cell_type": "markdown",
   "id": "a78f80fa",
   "metadata": {},
   "source": [
    "The model is about 87.7% accurate."
   ]
  },
  {
   "cell_type": "markdown",
   "id": "a508f1c0",
   "metadata": {},
   "source": [
    "#### 4. Decision Tree Classifier"
   ]
  },
  {
   "cell_type": "code",
   "execution_count": 43,
   "id": "c518a4e7",
   "metadata": {},
   "outputs": [],
   "source": [
    "dtrees = DecisionTreeClassifier(random_state=1)\n",
    "dtrees.fit(X_train, y_train)\n",
    "preds = dtrees.predict(X_test)"
   ]
  },
  {
   "cell_type": "code",
   "execution_count": 44,
   "id": "f7725543",
   "metadata": {},
   "outputs": [
    {
     "name": "stdout",
     "output_type": "stream",
     "text": [
      "Accuracy: 0.9203539823008849\n",
      "Mean Absolute Error: 0.15656565656565657\n"
     ]
    }
   ],
   "source": [
    "print(\"Accuracy:\", dtrees.score(X_train, y_train))\n",
    "print(\"Mean Absolute Error:\", mean_absolute_error(y_test, preds))"
   ]
  },
  {
   "cell_type": "markdown",
   "id": "ec2e0be8",
   "metadata": {},
   "source": [
    "The model is about 92% accurate."
   ]
  },
  {
   "cell_type": "markdown",
   "id": "269b2158",
   "metadata": {},
   "source": [
    "#### 5. Gradient Boosting Classifier"
   ]
  },
  {
   "cell_type": "code",
   "execution_count": 45,
   "id": "dc9dba47",
   "metadata": {},
   "outputs": [],
   "source": [
    "gbcl = GradientBoostingClassifier(learning_rate = 0.0001)\n",
    "gbcl.fit(X_train, y_train)\n",
    "preds = gbcl.predict(X_test)"
   ]
  },
  {
   "cell_type": "code",
   "execution_count": 46,
   "id": "901ac9a6",
   "metadata": {},
   "outputs": [
    {
     "name": "stdout",
     "output_type": "stream",
     "text": [
      "Accuracy: 0.8647281921618205\n",
      "Mean Absolute Error: 0.15151515151515152\n"
     ]
    }
   ],
   "source": [
    "print(\"Accuracy:\", gbcl.score(X_train, y_train))\n",
    "print(\"Mean Absolute Error:\", mean_absolute_error(y_test, preds))"
   ]
  },
  {
   "cell_type": "markdown",
   "id": "5072d641",
   "metadata": {},
   "source": [
    "The model is about 86.5% accurate."
   ]
  },
  {
   "cell_type": "markdown",
   "id": "f0bd7fe6",
   "metadata": {},
   "source": [
    "### Algorithms Used: \n",
    "#### Random Forest Classifier (Acc ~88%)\n",
    "#### Logistic Regression (Acc ~86%)\n",
    "#### K Neighbours Classifier (Acc ~87%)\n",
    "#### Decision Trees Classifier (Acc ~92%)\n",
    "#### Gradient Boosting Classifier (Acc ~86%)\n",
    "\n",
    "#### Decision Trees gave the best accuracy score of around 92%"
   ]
  },
  {
   "cell_type": "markdown",
   "id": "56a1d297",
   "metadata": {},
   "source": [
    "Since Decision Trees was our most accurate model, let's pickle it."
   ]
  },
  {
   "cell_type": "code",
   "execution_count": 42,
   "id": "891603cf",
   "metadata": {},
   "outputs": [],
   "source": [
    "#Pickling and dumping\n",
    "file = open('dtrees.pkl', 'wb')\n",
    "pickle.dump(dtrees, file)"
   ]
  }
 ],
 "metadata": {
  "kernelspec": {
   "display_name": "Python 3",
   "language": "python",
   "name": "python3"
  },
  "language_info": {
   "codemirror_mode": {
    "name": "ipython",
    "version": 3
   },
   "file_extension": ".py",
   "mimetype": "text/x-python",
   "name": "python",
   "nbconvert_exporter": "python",
   "pygments_lexer": "ipython3",
   "version": "3.8.8"
  }
 },
 "nbformat": 4,
 "nbformat_minor": 5
}
